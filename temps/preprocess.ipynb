{
 "cells": [
  {
   "cell_type": "markdown",
   "id": "c6e7e8d1-6d1d-497c-9434-255b2764b6d7",
   "metadata": {},
   "source": [
    "# Preprocess"
   ]
  },
  {
   "cell_type": "markdown",
   "id": "37e78fc4-2810-4f4e-9273-86f5c362ad5e",
   "metadata": {},
   "source": [
    "# Data cleaning:"
   ]
  },
  {
   "cell_type": "code",
   "execution_count": null,
   "id": "317e9349-2455-422a-80af-793aaeab6146",
   "metadata": {},
   "outputs": [],
   "source": [
    "# remove missing values\n",
    "data = data.dropna()\n",
    "\n",
    "# remove duplicates\n",
    "data = data.drop_duplicates()\n"
   ]
  },
  {
   "cell_type": "markdown",
   "id": "ae5e16a7-75b6-483f-a1d5-081aeaa44928",
   "metadata": {},
   "source": [
    "# Data transformation:"
   ]
  },
  {
   "cell_type": "code",
   "execution_count": null,
   "id": "ed5f9815-bb07-49e0-be7c-263ea7659075",
   "metadata": {},
   "outputs": [],
   "source": [
    "# log transformation\n",
    "data['column_name'] = np.log(data['column_name'])\n",
    "\n",
    "# square root transformation\n",
    "data['column_name'] = np.sqrt(data['column_name'])\n",
    "\n",
    "# normalization\n",
    "from sklearn.preprocessing import MinMaxScaler\n",
    "scaler = MinMaxScaler()\n",
    "data = scaler.fit_transform(data)\n"
   ]
  },
  {
   "cell_type": "markdown",
   "id": "1ef0044f-b6c3-4479-b3e1-e2418faf8c53",
   "metadata": {},
   "source": [
    "# Data encoding:"
   ]
  },
  {
   "cell_type": "code",
   "execution_count": null,
   "id": "0c7c3030-1e60-495e-a617-f2d71ead220c",
   "metadata": {},
   "outputs": [],
   "source": [
    "# one-hot encoding\n",
    "from sklearn.preprocessing import OneHotEncoder\n",
    "encoder = OneHotEncoder()\n",
    "data = encoder.fit_transform(data)\n",
    "\n",
    "# label encoding\n",
    "from sklearn.preprocessing import LabelEncoder\n",
    "encoder = LabelEncoder()\n",
    "data['column_name'] = encoder.fit_transform(data['column_name'])\n"
   ]
  },
  {
   "cell_type": "markdown",
   "id": "d551e6e9-0835-4c1a-8e29-bbdb7ca47913",
   "metadata": {},
   "source": [
    "# Data splitting:"
   ]
  },
  {
   "cell_type": "code",
   "execution_count": null,
   "id": "0382dab1-7550-4956-af15-efcbe6ac8de4",
   "metadata": {},
   "outputs": [],
   "source": [
    "# train-test split\n",
    "from sklearn.model_selection import train_test_split\n",
    "X_train, X_test, y_train, y_test = train_test_split(X, y, test_size=0.2)\n",
    "\n",
    "# k-fold cross validation\n",
    "from sklearn.model_selection import KFold\n",
    "kf = KFold(n_splits=5)\n",
    "for train_index, test_index in kf.split(X):\n",
    "    X_train, X_test = X[train_index], X[test_index]\n",
    "    y_train, y_test = y[train_index], y[test_index]\n"
   ]
  },
  {
   "cell_type": "code",
   "execution_count": null,
   "id": "78cc8ae7-ddd5-40b6-a16b-7e04e51b375b",
   "metadata": {},
   "outputs": [],
   "source": []
  },
  {
   "cell_type": "markdown",
   "id": "fc012775-fffe-4120-91c4-e7de7baad948",
   "metadata": {},
   "source": [
    "# Types of splits"
   ]
  },
  {
   "cell_type": "markdown",
   "id": "1e6a9a62-88ad-4615-ab88-cdfc8ae5c3fa",
   "metadata": {},
   "source": [
    "## Train-test split:"
   ]
  },
  {
   "cell_type": "code",
   "execution_count": null,
   "id": "7fd5bbe5-c8a7-4903-aa93-7acea050381f",
   "metadata": {},
   "outputs": [],
   "source": [
    "from sklearn.model_selection import train_test_split\n",
    "X_train, X_test, y_train, y_test = train_test_split(X, y, test_size=0.2, random_state=0)\n"
   ]
  },
  {
   "cell_type": "markdown",
   "id": "2d7f1b52-29bb-4b27-9ce5-2199ed166cad",
   "metadata": {},
   "source": [
    "## K-fold cross validation:"
   ]
  },
  {
   "cell_type": "code",
   "execution_count": null,
   "id": "aeb4cbb0-5bcb-421d-b3f2-96f6da968669",
   "metadata": {},
   "outputs": [],
   "source": [
    "from sklearn.model_selection import KFold\n",
    "kf = KFold(n_splits=5, shuffle=True, random_state=0)\n",
    "for train_index, test_index in kf.split(X):\n",
    "    X_train, X_test = X[train_index], X[test_index]\n",
    "    y_train, y_test = y[train_index], y[test_index]\n"
   ]
  },
  {
   "cell_type": "markdown",
   "id": "ffa66559-50be-4962-8946-977e1728b1c8",
   "metadata": {},
   "source": [
    "## Time series split:"
   ]
  },
  {
   "cell_type": "code",
   "execution_count": null,
   "id": "8b595e5b-bed9-467c-903e-52b9d4fe12a2",
   "metadata": {},
   "outputs": [],
   "source": [
    "from sklearn.model_selection import TimeSeriesSplit\n",
    "tscv = TimeSeriesSplit(n_splits=5)\n",
    "for train_index, test_index in tscv.split(X):\n",
    "    X_train, X_test = X[train_index], X[test_index]\n",
    "    y_train, y_test = y[train_index], y[test_index]\n"
   ]
  }
 ],
 "metadata": {
  "kernelspec": {
   "display_name": "Python 3 (ipykernel)",
   "language": "python",
   "name": "python3"
  },
  "language_info": {
   "codemirror_mode": {
    "name": "ipython",
    "version": 3
   },
   "file_extension": ".py",
   "mimetype": "text/x-python",
   "name": "python",
   "nbconvert_exporter": "python",
   "pygments_lexer": "ipython3",
   "version": "3.9.12"
  }
 },
 "nbformat": 4,
 "nbformat_minor": 5
}
