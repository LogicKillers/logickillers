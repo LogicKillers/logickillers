{
 "cells": [
  {
   "cell_type": "markdown",
   "id": "7a7a6adb-b3b3-4857-93ad-02b8f78b032f",
   "metadata": {},
   "source": [
    "Extract: The first step is to extract the data from various sources. This could include reading data from a database, CSV file, or API. For example, to read data from a CSV file using pandas in Python:"
   ]
  },
  {
   "cell_type": "code",
   "execution_count": null,
   "id": "1cdde4f6-2b5d-418f-ba82-07a1e95a29c0",
   "metadata": {},
   "outputs": [],
   "source": [
    "import pandas as pd\n",
    "\n",
    "data = pd.read_csv('data.csv')\n"
   ]
  },
  {
   "cell_type": "markdown",
   "id": "0e05a769-5d52-4368-9657-4d4e67d57e9b",
   "metadata": {},
   "source": [
    "Transform: The next step is to transform the data into a format that can be used for analysis. This could include cleaning the data, filling in missing values, and converting data types. For example, to fill in missing values using pandas in Python:"
   ]
  },
  {
   "cell_type": "code",
   "execution_count": null,
   "id": "5708372e-85f8-427f-aa41-de0bde590eb0",
   "metadata": {},
   "outputs": [],
   "source": [
    "data.fillna(data.mean(), inplace=True)\n"
   ]
  },
  {
   "cell_type": "markdown",
   "id": "758ff635-0ac5-4f19-8978-20ef2732a843",
   "metadata": {},
   "source": [
    "from sqlalchemy import create_engine\n",
    "\n",
    "engine = create_engine('sqlite:///data.db')\n",
    "data.to_sql('data', engine)\n"
   ]
  },
  {
   "cell_type": "code",
   "execution_count": null,
   "id": "84c4d940-fe76-4b36-a5bc-592b15e885a6",
   "metadata": {},
   "outputs": [],
   "source": [
    "from sqlalchemy import create_engine\n",
    "\n",
    "engine = create_engine('sqlite:///data.db')\n",
    "data.to_sql('data', engine)\n"
   ]
  }
 ],
 "metadata": {
  "kernelspec": {
   "display_name": "Python 3 (ipykernel)",
   "language": "python",
   "name": "python3"
  },
  "language_info": {
   "codemirror_mode": {
    "name": "ipython",
    "version": 3
   },
   "file_extension": ".py",
   "mimetype": "text/x-python",
   "name": "python",
   "nbconvert_exporter": "python",
   "pygments_lexer": "ipython3",
   "version": "3.9.12"
  }
 },
 "nbformat": 4,
 "nbformat_minor": 5
}
