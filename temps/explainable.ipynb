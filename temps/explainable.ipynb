{
 "cells": [
  {
   "cell_type": "markdown",
   "id": "af989342-a259-4a60-9451-8e6c97903e8a",
   "metadata": {},
   "source": [
    "# Feature importance:\n"
   ]
  },
  {
   "cell_type": "markdown",
   "id": "a470c25d-469b-4882-a621-ccc77dfd97b7",
   "metadata": {},
   "source": [
    "## Permutation Importance:\n"
   ]
  },
  {
   "cell_type": "code",
   "execution_count": null,
   "id": "3ab4a176-ec27-4131-8624-f299bc330278",
   "metadata": {},
   "outputs": [],
   "source": [
    "from sklearn.inspection import permutation_importance\n",
    "\n",
    "# train your model\n",
    "...\n",
    "\n",
    "result = permutation_importance(model, X_test, y_test, n_repeats=10, random_state=0)\n",
    "\n",
    "# The `result` variable will contain the feature importance score for each feature\n"
   ]
  },
  {
   "cell_type": "markdown",
   "id": "96a60497-2742-48e3-b717-225a2e20f6c1",
   "metadata": {},
   "source": [
    "## SHAP:"
   ]
  },
  {
   "cell_type": "code",
   "execution_count": null,
   "id": "312cdb4d-7233-4bc5-bccb-92a64d000534",
   "metadata": {},
   "outputs": [],
   "source": [
    "import shap\n",
    "\n",
    "# train your model\n",
    "...\n",
    "\n",
    "# explain the model's predictions using SHAP values\n",
    "explainer = shap.Explainer(model, X_train)\n",
    "shap_values = explainer(X_test)\n",
    "\n",
    "# The `shap_values` variable will contain the SHAP values for each feature for each instance in the test set.\n"
   ]
  },
  {
   "cell_type": "markdown",
   "id": "c8d76c8a-88f7-4480-b02d-4010b1127d15",
   "metadata": {},
   "source": [
    "# Partial dependence plots:"
   ]
  },
  {
   "cell_type": "code",
   "execution_count": null,
   "id": "761d7f7b-2325-4329-bb1c-e3c74de46f29",
   "metadata": {},
   "outputs": [],
   "source": [
    "from sklearn.inspection import plot_partial_dependence\n",
    "\n",
    "# train your model\n",
    "...\n",
    "\n",
    "# plot partial dependence for features 0 and 1\n",
    "features = [0, 1]\n",
    "plot_partial_dependence(model, X_train, features)\n"
   ]
  },
  {
   "cell_type": "markdown",
   "id": "83217e98-19a8-4b4d-8da2-cbfe73b1dbb3",
   "metadata": {},
   "source": [
    "## Local interpretable model-agnostic explanations (LIME):\n"
   ]
  },
  {
   "cell_type": "code",
   "execution_count": null,
   "id": "ff4d56a0-ab7d-48f0-a535-484dbb1d2d48",
   "metadata": {},
   "outputs": [],
   "source": [
    "from lime import lime_tabular\n",
    "\n",
    "# train your model\n",
    "...\n",
    "\n",
    "# explain predictions using LIME\n",
    "explainer = lime_tabular.Explainer(X_train, feature_names=feature_names)\n",
    "exp = explainer.explain_instance(X_test[0], model.predict_proba, num_features=5)\n",
    "\n",
    "# The `exp` variable will contain the explanation for the first instance in the test set, including the features that are most important for the prediction.\n"
   ]
  },
  {
   "cell_type": "markdown",
   "id": "4e845da3-0a85-4c52-8ee0-9a8a4193376d",
   "metadata": {},
   "source": [
    "# Residual plots:"
   ]
  },
  {
   "cell_type": "code",
   "execution_count": null,
   "id": "d8f41e3a-7667-428a-8a26-5eb6e67f6693",
   "metadata": {},
   "outputs": [],
   "source": [
    "import matplotlib.pyplot as plt\n",
    "\n",
    "# create a residual plot\n",
    "predictions = model.predict(X_test)\n",
    "residuals = y_test - predictions\n",
    "plt.scatter(predictions, residuals)\n",
    "plt.xlabel('Predictions')\n",
    "plt.ylabel('Residuals')\n",
    "plt.show()\n"
   ]
  },
  {
   "cell_type": "code",
   "execution_count": null,
   "id": "749f15ea-01bc-4b2f-bab5-d8129e0f6eb5",
   "metadata": {},
   "outputs": [],
   "source": []
  },
  {
   "cell_type": "code",
   "execution_count": null,
   "id": "5e833e7f-bac7-4e25-a684-9f1a8d488bcf",
   "metadata": {},
   "outputs": [],
   "source": []
  },
  {
   "cell_type": "code",
   "execution_count": null,
   "id": "29594f1e-0ed9-47ac-abec-e74416a60199",
   "metadata": {},
   "outputs": [],
   "source": []
  },
  {
   "cell_type": "markdown",
   "id": "8b804cbc-6011-4e93-b37f-2b93420ab02c",
   "metadata": {},
   "source": [
    "# Classification"
   ]
  },
  {
   "cell_type": "markdown",
   "id": "2a9f57ee-4f7a-4d74-94ad-6d1b7380fcff",
   "metadata": {},
   "source": [
    "## Feature importance:"
   ]
  },
  {
   "cell_type": "code",
   "execution_count": null,
   "id": "4e3d2ab2-490e-4716-937a-5220f0dfe414",
   "metadata": {},
   "outputs": [],
   "source": [
    "#Permutation Importance\n",
    "from sklearn.inspection import permutation_importance\n",
    "\n",
    "# train your model\n",
    "...\n",
    "\n",
    "result = permutation_importance(model, X_test, y_test, n_repeats=10, random_state=0)\n",
    "\n",
    "# The `result` variable will contain the feature importance score for each feature\n",
    "\n",
    "#SHAP\n",
    "import shap\n",
    "\n",
    "# train your model\n",
    "...\n",
    "\n",
    "# explain the model's predictions using SHAP values\n",
    "explainer = shap.Explainer(model, X_train)\n",
    "shap_values = explainer(X_test)\n",
    "\n",
    "# The `shap_values` variable will contain the SHAP values for each feature for each instance in the test set.\n"
   ]
  },
  {
   "cell_type": "markdown",
   "id": "5eaf8dfc-4c60-4c27-9532-7780ed23c3e1",
   "metadata": {},
   "source": [
    "## Class Activation Mapping (CAM):"
   ]
  },
  {
   "cell_type": "code",
   "execution_count": null,
   "id": "6b40ef94-f6b6-44c0-b2ee-91f98f9dac49",
   "metadata": {},
   "outputs": [],
   "source": [
    "from keras.applications.vgg16 import VGG16\n",
    "from keras.applications.vgg16 import preprocess_input\n",
    "import numpy as np\n",
    "from keras.preprocessing import image\n",
    "\n",
    "# create the model\n",
    "model = VGG16(weights='imagenet', include_top=True)\n",
    "\n",
    "# load the image and preprocess it\n",
    "img = image.load_img('image.jpg', target_size=(224, 224))\n",
    "x = image.img_to_array(img)\n",
    "x = np.expand_dims(x, axis=0)\n",
    "x = preprocess_input(x)\n",
    "\n",
    "# get the class activation map\n",
    "preds = model.predict(x)\n",
    "class_idx = np.argmax(preds[0])\n",
    "class_output = model.output[:, class_idx]\n",
    "last_conv_layer = model.get_layer('block5_conv3')\n",
    "grads = K.gradients(class_output, last_conv_layer.output)[0]\n",
    "pooled_grads = K.mean(grads, axis=(0, 1, 2))\n",
    "iterate = K.function([model.input], [pooled_grads, last_conv_layer.output[0]])\n",
    "pooled_grads_value, conv_layer_output_value = iterate([x])\n",
    "for i in range(512):\n",
    "    conv_layer_output_value[:, :, i] *= pooled_grads_value[i]\n",
    "heatmap = np.mean(conv_layer_output_value, axis=-1)\n"
   ]
  },
  {
   "cell_type": "markdown",
   "id": "6760246a-0f9e-4713-a56f-eb7fb641ad2f",
   "metadata": {},
   "source": [
    "## Local interpretable model-agnostic explanations (LIME)"
   ]
  },
  {
   "cell_type": "code",
   "execution_count": null,
   "id": "44ffd6e0-9e0f-4d00-9fd6-5f30b7d6f363",
   "metadata": {},
   "outputs": [],
   "source": [
    "from lime import lime_tabular\n",
    "\n",
    "# train your model\n",
    "...\n",
    "\n",
    "# explain predictions using LIME\n",
    "explainer = lime_tabular.Explainer(X_train, feature_names=feature_names, class_names=class_names)\n",
    "exp = explainer.explain_instance(X_test[0], model.predict_proba, num_features=5)\n",
    "\n",
    "# The `exp` variable will contain the explanation for the first instance in the test set, including the features that are most important for the prediction.\n"
   ]
  }
 ],
 "metadata": {
  "kernelspec": {
   "display_name": "Python 3 (ipykernel)",
   "language": "python",
   "name": "python3"
  },
  "language_info": {
   "codemirror_mode": {
    "name": "ipython",
    "version": 3
   },
   "file_extension": ".py",
   "mimetype": "text/x-python",
   "name": "python",
   "nbconvert_exporter": "python",
   "pygments_lexer": "ipython3",
   "version": "3.9.12"
  }
 },
 "nbformat": 4,
 "nbformat_minor": 5
}
