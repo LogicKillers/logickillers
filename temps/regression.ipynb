{
 "cells": [
  {
   "cell_type": "markdown",
   "id": "37219c59-069b-4d94-aee1-b45e98fdb07b",
   "metadata": {},
   "source": [
    "# Linear Regression:"
   ]
  },
  {
   "cell_type": "code",
   "execution_count": null,
   "id": "623e6a76-337d-4229-a7d9-faef37b8ccef",
   "metadata": {},
   "outputs": [],
   "source": [
    "from sklearn.linear_model import LinearRegression\n",
    "\n",
    "# create the model\n",
    "model = LinearRegression()\n",
    "\n",
    "# fit the model on the training data\n",
    "model.fit(X_train, y_train)\n"
   ]
  },
  {
   "cell_type": "markdown",
   "id": "480b2f7a-ff08-4a2f-ac28-c9319838184a",
   "metadata": {},
   "source": [
    "# Ridge Regression:"
   ]
  },
  {
   "cell_type": "code",
   "execution_count": null,
   "id": "e2cb69b5-4a76-4611-b26c-02a6cca9a096",
   "metadata": {},
   "outputs": [],
   "source": [
    "from sklearn.linear_model import Ridge\n",
    "\n",
    "# create the model\n",
    "model = Ridge(alpha=1.0)\n",
    "\n",
    "# fit the model on the training data\n",
    "model.fit(X_train, y_train)\n"
   ]
  },
  {
   "cell_type": "markdown",
   "id": "847fc236-f217-41d4-a96e-1cabb4278a55",
   "metadata": {},
   "source": [
    "# Lasso Regression:"
   ]
  },
  {
   "cell_type": "code",
   "execution_count": null,
   "id": "9a807b61-84e1-44e5-8cce-ef9b8ebae1b1",
   "metadata": {},
   "outputs": [],
   "source": [
    "from sklearn.linear_model import Lasso\n",
    "\n",
    "# create the model\n",
    "model = Lasso(alpha=0.1)\n",
    "\n",
    "# fit the model on the training data\n",
    "model.fit(X_train, y_train)\n"
   ]
  },
  {
   "cell_type": "markdown",
   "id": "f6b8bfa4-57d7-4ac9-b0bf-09c29a4084b2",
   "metadata": {},
   "source": [
    "# Decision Tree:"
   ]
  },
  {
   "cell_type": "code",
   "execution_count": null,
   "id": "600057c7-8fa8-42bc-89ef-925c95e94d81",
   "metadata": {},
   "outputs": [],
   "source": [
    "from sklearn.tree import DecisionTreeRegressor\n",
    "\n",
    "# create the model\n",
    "model = DecisionTreeRegressor(random_state=0)\n",
    "\n",
    "# fit the model on the training data\n",
    "model.fit(X_train, y_train)\n"
   ]
  },
  {
   "cell_type": "markdown",
   "id": "10061051-a507-463e-8f89-e6aeccb20d26",
   "metadata": {},
   "source": [
    "# Random Forest:"
   ]
  },
  {
   "cell_type": "code",
   "execution_count": null,
   "id": "9956fbe5-0287-4987-9ee3-2a270142c397",
   "metadata": {},
   "outputs": [],
   "source": [
    "from sklearn.ensemble import RandomForestRegressor\n",
    "\n",
    "# create the model\n",
    "model = RandomForestRegressor(n_estimators=100, random_state=0)\n",
    "\n",
    "# fit the model on the training data\n",
    "model.fit(X_train, y_train)\n"
   ]
  },
  {
   "cell_type": "markdown",
   "id": "76a59a9e-fccc-458d-bffe-ed2635009cf9",
   "metadata": {},
   "source": [
    "# Support Vector Machine (SVR):"
   ]
  },
  {
   "cell_type": "code",
   "execution_count": null,
   "id": "49dad877-280d-4645-b832-585288190731",
   "metadata": {},
   "outputs": [],
   "source": [
    "from sklearn.svm import SVR\n",
    "\n",
    "# create the model\n",
    "model = SVR(kernel='rbf', C=1, gamma=0.1)\n",
    "\n",
    "# fit the model on the training data\n",
    "model.fit(X_train, y_train)\n"
   ]
  },
  {
   "cell_type": "markdown",
   "id": "e6ddfad8-e003-45cf-9186-4c582030e542",
   "metadata": {},
   "source": [
    "# Neural Network"
   ]
  },
  {
   "cell_type": "code",
   "execution_count": null,
   "id": "1533fb71-eb90-4c39-bd5c-120fa0185e2f",
   "metadata": {},
   "outputs": [],
   "source": [
    "from sklearn.neural_network import MLPRegressor\n",
    "\n",
    "# create the model\n",
    "model = MLPRegressor(hidden_layer_sizes=(100,), activation='relu', solver='adam', max_iter=1000)\n",
    "\n",
    "# fit the model on the training data\n",
    "model.fit(X_train, y_train)\n"
   ]
  },
  {
   "cell_type": "code",
   "execution_count": null,
   "id": "8067d6da-2f82-4e35-98ac-4e84dd0da360",
   "metadata": {},
   "outputs": [],
   "source": []
  },
  {
   "cell_type": "code",
   "execution_count": null,
   "id": "a0c26c2e-90f2-4e37-be6d-b6a5ef345586",
   "metadata": {},
   "outputs": [],
   "source": []
  },
  {
   "cell_type": "markdown",
   "id": "2fd8705c-eaf6-4a6a-a4ad-55c6fc8dfc49",
   "metadata": {},
   "source": [
    "# Ensamble Model"
   ]
  },
  {
   "cell_type": "markdown",
   "id": "423c97e9-f730-479b-b5e1-b8234b9cb208",
   "metadata": {},
   "source": [
    "# Bagging:"
   ]
  },
  {
   "cell_type": "code",
   "execution_count": null,
   "id": "5909a643-3dc7-49ce-8f30-0c36637773b2",
   "metadata": {},
   "outputs": [],
   "source": [
    "from sklearn.ensemble import BaggingRegressor\n",
    "from sklearn.tree import DecisionTreeRegressor\n",
    "\n",
    "# create the base model\n",
    "base_model = DecisionTreeRegressor(random_state=0)\n",
    "\n",
    "# create the ensemble model\n",
    "model = BaggingRegressor(base_estimator=base_model, n_estimators=100, random_state=0)\n",
    "\n",
    "# fit the model on the training data\n",
    "model.fit(X_train, y_train)\n"
   ]
  },
  {
   "cell_type": "markdown",
   "id": "734759e5-72a1-416a-a648-018cf2fac3b2",
   "metadata": {},
   "source": [
    "# Boosting:"
   ]
  },
  {
   "cell_type": "code",
   "execution_count": null,
   "id": "81f37c4e-eeb8-48c0-93a1-6e040483e07e",
   "metadata": {},
   "outputs": [],
   "source": [
    "from sklearn.ensemble import AdaBoostRegressor\n",
    "from sklearn.tree import DecisionTreeRegressor\n",
    "\n",
    "# create the base model\n",
    "base_model = DecisionTreeRegressor(random_state=0)\n",
    "\n",
    "# create the ensemble model\n",
    "model = AdaBoostRegressor(base_estimator=base_model, n_estimators=100, random_state=0)\n",
    "\n",
    "# fit the model on the training data\n",
    "model.fit(X_train, y_train)\n"
   ]
  },
  {
   "cell_type": "markdown",
   "id": "6dd8d5c7-a3a7-4bbf-9e43-cb2fe6d523a1",
   "metadata": {},
   "source": [
    "# Random Forest:"
   ]
  },
  {
   "cell_type": "code",
   "execution_count": null,
   "id": "2f07115e-37de-4765-8b24-9252b94c1769",
   "metadata": {},
   "outputs": [],
   "source": [
    "from sklearn.ensemble import RandomForestRegressor\n",
    "\n",
    "# create the model\n",
    "model = RandomForestRegressor(n_estimators=100, random_state=0)\n",
    "\n",
    "# fit the model on the training data\n",
    "model.fit(X_train, y_train)\n"
   ]
  },
  {
   "cell_type": "markdown",
   "id": "d398951f-181e-4d57-811a-18064c4b1acc",
   "metadata": {},
   "source": [
    "# Gradient Boosting:"
   ]
  },
  {
   "cell_type": "code",
   "execution_count": null,
   "id": "8f2dc886-7a18-4f1e-b318-755d4bafe9f7",
   "metadata": {},
   "outputs": [],
   "source": [
    "from sklearn.ensemble import GradientBoostingRegressor\n",
    "\n",
    "# create the model\n",
    "model = GradientBoostingRegressor(n_estimators=100, random_state=0)\n",
    "\n",
    "# fit the model on the training data\n",
    "model.fit(X_train, y_train)\n"
   ]
  },
  {
   "cell_type": "markdown",
   "id": "893951c5-9a49-4eca-9d21-cae6d2d1bf1f",
   "metadata": {},
   "source": [
    "# XGBoost:"
   ]
  },
  {
   "cell_type": "code",
   "execution_count": null,
   "id": "b74eea53-b1c6-41a7-a083-822f7cd52257",
   "metadata": {},
   "outputs": [],
   "source": [
    "import xgboost as xgb\n",
    "\n",
    "# create the model\n",
    "model = xgb.XGBRegressor(n_estimators=100, random_state=0)\n",
    "\n",
    "# fit the model on the training data\n",
    "model.fit(X_train, y_train)\n"
   ]
  },
  {
   "cell_type": "markdown",
   "id": "52d34444-4629-43ad-8845-1ebd536f946f",
   "metadata": {},
   "source": [
    "# LightGBM:"
   ]
  },
  {
   "cell_type": "code",
   "execution_count": null,
   "id": "8d2a58ac-48ec-4a83-9cb0-aa12ca05ab0f",
   "metadata": {},
   "outputs": [],
   "source": [
    "import lightgbm as lgb\n",
    "\n",
    "# create the model\n",
    "model = lgb.LGBMRegressor(n_estimators=100, random_state=0)\n",
    "\n",
    "# fit the model on the training data\n",
    "model.fit(X_train, y_train)\n"
   ]
  },
  {
   "cell_type": "markdown",
   "id": "348caa5b-1a50-47c4-9d2f-b606612a8dfe",
   "metadata": {},
   "source": []
  },
  {
   "cell_type": "code",
   "execution_count": null,
   "id": "e91f700f-6f1c-48ad-8cbe-ca7e612d4328",
   "metadata": {},
   "outputs": [],
   "source": []
  },
  {
   "cell_type": "code",
   "execution_count": null,
   "id": "157561c3-1864-4781-bd57-e6b0652bc631",
   "metadata": {},
   "outputs": [],
   "source": []
  },
  {
   "cell_type": "markdown",
   "id": "a299da22-d3a5-42d3-9b14-f34f512387d6",
   "metadata": {},
   "source": [
    "# HYper parameter tune"
   ]
  },
  {
   "cell_type": "markdown",
   "id": "b73e8542-67c4-4d74-b56f-fbc2318cc507",
   "metadata": {},
   "source": [
    "# Grid Search:"
   ]
  },
  {
   "cell_type": "code",
   "execution_count": null,
   "id": "df971735-8b85-41a9-a097-9549af54f745",
   "metadata": {},
   "outputs": [],
   "source": [
    "from sklearn.model_selection import GridSearchCV\n",
    "from sklearn.linear_model import LinearRegression\n",
    "\n",
    "# define the hyperparameters and their possible values\n",
    "param_grid = {'normalize': [True, False]}\n",
    "\n",
    "# create the model\n",
    "model = LinearRegression()\n",
    "\n",
    "# create the grid search\n",
    "grid_search = GridSearchCV(model, param_grid, cv=5)\n",
    "\n",
    "# fit the grid search on the data\n",
    "grid_search.fit(X_train, y_train)\n",
    "\n",
    "# get the best hyperparameters\n",
    "best_params = grid_search.best_params_\n"
   ]
  },
  {
   "cell_type": "markdown",
   "id": "082b2bd8-9be2-4446-9fb6-db64259a2627",
   "metadata": {},
   "source": [
    "# Random Search:"
   ]
  },
  {
   "cell_type": "code",
   "execution_count": null,
   "id": "8aa456e2-013f-4856-884e-0042e17558cf",
   "metadata": {},
   "outputs": [],
   "source": [
    "from sklearn.model_selection import RandomizedSearchCV\n",
    "from sklearn.linear_model import LinearRegression\n",
    "from scipy.stats import uniform\n",
    "\n",
    "# define the hyperparameters and their possible values\n",
    "param_grid = {'normalize': [True, False]}\n",
    "\n",
    "# create the model\n",
    "model = LinearRegression()\n",
    "\n",
    "# create the random search\n",
    "random_search = RandomizedSearchCV(model, param_grid, cv=5, n_iter=10, random_state=0)\n",
    "\n",
    "# fit the random search on the data\n",
    "random_search.fit(X_train, y_train)\n",
    "\n",
    "# get the best hyperparameters\n",
    "best_params = random_search.best_params_\n"
   ]
  },
  {
   "cell_type": "markdown",
   "id": "ca2cfa0c-4de6-4074-92aa-f7f06a0e2d7c",
   "metadata": {},
   "source": [
    "# Bayesian Optimization:"
   ]
  },
  {
   "cell_type": "code",
   "execution_count": null,
   "id": "4dd6dece-c25a-4c19-90a8-b32d5a3e65ab",
   "metadata": {},
   "outputs": [],
   "source": [
    "from skopt import BayesSearchCV\n",
    "from sklearn.linear_model import LinearRegression\n",
    "from skopt.space import Real, Categorical\n",
    "\n",
    "# define the hyperparameters and their possible values\n",
    "param_grid = {'normalize': Categorical([True, False])}\n",
    "\n",
    "# create the model\n",
    "model = LinearRegression()\n",
    "\n",
    "# create the bayesian optimization\n",
    "bayesian_search = BayesSearchCV(model, param_grid, n_iter=10)\n",
    "\n",
    "# fit the bayesian optimization on the data\n",
    "bayesian_search.fit(X_train, y_train)\n",
    "\n",
    "# get the best hyperparameters\n",
    "best_params = bayesian_search.best_params_\n"
   ]
  },
  {
   "cell_type": "markdown",
   "id": "bc2b74ef-6d96-4bc2-bfe6-24decdf00083",
   "metadata": {},
   "source": [
    "# Optuna:"
   ]
  },
  {
   "cell_type": "code",
   "execution_count": null,
   "id": "2982b5d8-6db5-4922-98a4-8557f950e6e7",
   "metadata": {},
   "outputs": [],
   "source": [
    "import optuna\n",
    "from sklearn.linear_model import LinearRegression\n",
    "\n",
    "def objective(trial):\n",
    "    normalize = trial.suggest_categorical('normalize', [True, False])\n",
    "    model = LinearRegression(normalize=normalize)\n",
    "    return -np.mean(cross_val_score(model, X_train, y_train, cv=5, n_jobs=-1, scoring='neg_mean_squared_error'))\n",
    "\n",
    "study = optuna.create_study()\n",
    "study.optimize(objective, n_trials=100)\n",
    "\n",
    "best_params = study.best_params\n"
   ]
  },
  {
   "cell_type": "markdown",
   "id": "10a39bf8-b573-490f-a669-9a5f612d359d",
   "metadata": {},
   "source": [
    "# "
   ]
  },
  {
   "cell_type": "code",
   "execution_count": null,
   "id": "f9912d68-82ad-4a03-a02c-5e2224ed199e",
   "metadata": {},
   "outputs": [],
   "source": []
  },
  {
   "cell_type": "markdown",
   "id": "40d1f7d2-7a61-44a0-b11f-0fe035d4e144",
   "metadata": {},
   "source": [
    "# "
   ]
  },
  {
   "cell_type": "code",
   "execution_count": null,
   "id": "b55a2d8b-ebea-489c-a2c0-6dfe89a56e1f",
   "metadata": {},
   "outputs": [],
   "source": []
  },
  {
   "cell_type": "markdown",
   "id": "7fc0e6e5-0774-4ba1-85ba-6b086c3adecb",
   "metadata": {},
   "source": [
    "# "
   ]
  },
  {
   "cell_type": "code",
   "execution_count": null,
   "id": "5bb390f5-2ec9-45d9-a125-3b8aa97dec37",
   "metadata": {},
   "outputs": [],
   "source": []
  },
  {
   "cell_type": "markdown",
   "id": "0f76b101-04b4-416c-bdfc-19fde710d96c",
   "metadata": {},
   "source": [
    "# "
   ]
  },
  {
   "cell_type": "code",
   "execution_count": null,
   "id": "62c8e141-e5a9-45d0-851a-61fa809599b7",
   "metadata": {},
   "outputs": [],
   "source": []
  },
  {
   "cell_type": "markdown",
   "id": "78375960-e139-4c11-b017-00e47beed99c",
   "metadata": {},
   "source": [
    "# "
   ]
  },
  {
   "cell_type": "code",
   "execution_count": null,
   "id": "a91f41e1-4b9c-4db8-9439-2a225094065a",
   "metadata": {},
   "outputs": [],
   "source": []
  },
  {
   "cell_type": "markdown",
   "id": "699d8e72-b50b-40c6-b9e1-82d155abd375",
   "metadata": {},
   "source": [
    "# "
   ]
  },
  {
   "cell_type": "code",
   "execution_count": null,
   "id": "910a07bf-0260-429d-8099-a179c50c22f3",
   "metadata": {},
   "outputs": [],
   "source": []
  },
  {
   "cell_type": "markdown",
   "id": "77eaab48-d9df-4d8f-b552-638c1607596a",
   "metadata": {},
   "source": [
    "# "
   ]
  },
  {
   "cell_type": "code",
   "execution_count": null,
   "id": "b567955e-39b1-45cd-ae3f-a52f62762b30",
   "metadata": {},
   "outputs": [],
   "source": []
  }
 ],
 "metadata": {
  "kernelspec": {
   "display_name": "Python 3 (ipykernel)",
   "language": "python",
   "name": "python3"
  },
  "language_info": {
   "codemirror_mode": {
    "name": "ipython",
    "version": 3
   },
   "file_extension": ".py",
   "mimetype": "text/x-python",
   "name": "python",
   "nbconvert_exporter": "python",
   "pygments_lexer": "ipython3",
   "version": "3.9.12"
  }
 },
 "nbformat": 4,
 "nbformat_minor": 5
}
